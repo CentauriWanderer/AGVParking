{
 "cells": [
  {
   "cell_type": "code",
   "execution_count": null,
   "id": "d59b0a08-1b19-4865-9637-de2bbad40b62",
   "metadata": {},
   "outputs": [],
   "source": [
    "from traffic_class import *\n",
    "traf = TRAFFIC()"
   ]
  },
  {
   "cell_type": "code",
   "execution_count": null,
   "id": "969cd9ca-ad78-457a-abee-5d727c3f7f73",
   "metadata": {},
   "outputs": [],
   "source": [
    "#######################################\n",
    "# 修改模型文件和参数后运行！\n",
    "#######################################\n",
    "\n",
    "traf.loadModel(path='models/model005.xlsx')\n",
    "\n",
    "\n",
    "#####################\n",
    "traf.setParams(num_exp=48, map_cap=112, change_prob=0, entrance_percent=(1,0,0), different_exit_prob=0)\n",
    "#####################"
   ]
  },
  {
   "cell_type": "code",
   "execution_count": null,
   "id": "571ee28c-2912-4459-9659-331dde9aeaf2",
   "metadata": {},
   "outputs": [],
   "source": [
    "traf.plotModel()"
   ]
  },
  {
   "cell_type": "code",
   "execution_count": null,
   "id": "2a66a82e",
   "metadata": {},
   "outputs": [],
   "source": [
    "traf.generate()"
   ]
  },
  {
   "cell_type": "code",
   "execution_count": null,
   "id": "89c9f896",
   "metadata": {},
   "outputs": [],
   "source": [
    "traf.info()"
   ]
  },
  {
   "cell_type": "code",
   "execution_count": null,
   "id": "bec460d2",
   "metadata": {},
   "outputs": [],
   "source": [
    "traf.save()"
   ]
  },
  {
   "cell_type": "code",
   "execution_count": null,
   "id": "6742e91e",
   "metadata": {},
   "outputs": [],
   "source": [
    "traf.load()"
   ]
  },
  {
   "cell_type": "code",
   "execution_count": null,
   "id": "d120c186",
   "metadata": {},
   "outputs": [],
   "source": [
    "traf.PregeneratedVehicleList[0][0]\n",
    "#['类型','分配类型','到达时间','离开时间','入口','出口','实际出口','是否进场','停车位id']"
   ]
  }
 ],
 "metadata": {
  "kernelspec": {
   "display_name": "Python 3 (ipykernel)",
   "language": "python",
   "name": "python3"
  },
  "language_info": {
   "codemirror_mode": {
    "name": "ipython",
    "version": 3
   },
   "file_extension": ".py",
   "mimetype": "text/x-python",
   "name": "python",
   "nbconvert_exporter": "python",
   "pygments_lexer": "ipython3",
   "version": "3.10.10"
  }
 },
 "nbformat": 4,
 "nbformat_minor": 5
}
