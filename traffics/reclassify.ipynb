{
 "cells": [
  {
   "cell_type": "code",
   "execution_count": null,
   "id": "e5cb367c-73a3-4bdb-a611-52d34571a7d5",
   "metadata": {},
   "outputs": [],
   "source": [
    "from traffic_class import *\n",
    "traf = TRAFFIC()"
   ]
  },
  {
   "cell_type": "code",
   "execution_count": null,
   "id": "572030bb-6b6e-4040-a962-6ac9bcedce07",
   "metadata": {},
   "outputs": [],
   "source": [
    "traf.load()"
   ]
  },
  {
   "cell_type": "code",
   "execution_count": null,
   "id": "9edbafad-561f-4549-a381-5fc4955ee70e",
   "metadata": {},
   "outputs": [],
   "source": [
    "traf.PregeneratedVehicleList[0][0]\n",
    "#['类型','分配类型','到达时间','离开时间','入口','出口','实际出口','是否进场','停车位id']"
   ]
  },
  {
   "cell_type": "code",
   "execution_count": null,
   "id": "27943b33-c204-453a-8e85-89aa1e55ecc4",
   "metadata": {},
   "outputs": [],
   "source": [
    "traf.reclassify((2,4,6,9))"
   ]
  },
  {
   "cell_type": "code",
   "execution_count": null,
   "id": "72c387c7-25f4-4f6a-8eab-67c7ff580f16",
   "metadata": {},
   "outputs": [],
   "source": [
    "traf.PregeneratedVehicleList[0][0]"
   ]
  },
  {
   "cell_type": "code",
   "execution_count": null,
   "id": "8db6ba64-9670-4aca-914a-4b6768e7eef3",
   "metadata": {},
   "outputs": [],
   "source": [
    "traf.save()"
   ]
  }
 ],
 "metadata": {
  "kernelspec": {
   "display_name": "Python 3 (ipykernel)",
   "language": "python",
   "name": "python3"
  },
  "language_info": {
   "codemirror_mode": {
    "name": "ipython",
    "version": 3
   },
   "file_extension": ".py",
   "mimetype": "text/x-python",
   "name": "python",
   "nbconvert_exporter": "python",
   "pygments_lexer": "ipython3",
   "version": "3.10.10"
  }
 },
 "nbformat": 4,
 "nbformat_minor": 5
}
