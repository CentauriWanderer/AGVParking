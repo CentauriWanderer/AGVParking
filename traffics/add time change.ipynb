{
 "cells": [
  {
   "cell_type": "code",
   "execution_count": null,
   "id": "b6d5eef3-fc9a-4dfc-9cc1-003c2705ea9b",
   "metadata": {},
   "outputs": [],
   "source": [
    "from traffic_class import *\n",
    "traf = TRAFFIC()"
   ]
  },
  {
   "cell_type": "code",
   "execution_count": null,
   "id": "9d2819c3-ee27-4aa0-a512-6d70ea6153f5",
   "metadata": {},
   "outputs": [],
   "source": [
    "import copy"
   ]
  },
  {
   "cell_type": "code",
   "execution_count": null,
   "id": "856d1799-4d39-494f-a021-102a59e282ee",
   "metadata": {},
   "outputs": [],
   "source": [
    "traf.load()"
   ]
  },
  {
   "cell_type": "code",
   "execution_count": null,
   "id": "5e3ea4e0-0687-45bd-8291-f242118b12e8",
   "metadata": {},
   "outputs": [],
   "source": [
    "test0 = copy.deepcopy(traf.PregeneratedVehicleList[0][0])\n",
    "#['类型','分配类型','到达时间','离开时间','入口','出口','实际出口','是否进场','停车位id']\n",
    "test0"
   ]
  },
  {
   "cell_type": "code",
   "execution_count": null,
   "id": "7395c0c5-6e07-4265-a0c4-051f25b1efb6",
   "metadata": {},
   "outputs": [],
   "source": [
    "traf.addClassificationFailure(0.15)"
   ]
  },
  {
   "cell_type": "code",
   "execution_count": null,
   "id": "91415985-2299-4abb-b887-e54187beaa67",
   "metadata": {},
   "outputs": [],
   "source": [
    "test1 = traf.PregeneratedVehicleList[0][0]\n",
    "test1"
   ]
  },
  {
   "cell_type": "code",
   "execution_count": null,
   "id": "c1590938-da43-4156-b427-a0f4452b6a8f",
   "metadata": {
    "scrolled": true
   },
   "outputs": [],
   "source": [
    "count = 0\n",
    "for i in range(len(test0)):\n",
    "    if test0[i] != test1[i]:\n",
    "        print(str(i)+':',end='')\n",
    "        print(test0[i], end='-')\n",
    "        print(test1[i])\n",
    "        print((test0[i][3]-test0[i][2])/720)\n",
    "        print((test1[i][3]-test0[i][2])/720)\n",
    "        count += 1"
   ]
  },
  {
   "cell_type": "code",
   "execution_count": null,
   "id": "38f87124-1509-4250-916b-40e477bf49e6",
   "metadata": {},
   "outputs": [],
   "source": [
    "print(count/len(test0))"
   ]
  },
  {
   "cell_type": "code",
   "execution_count": null,
   "id": "14da436d-52d0-4c40-880c-258818e883a9",
   "metadata": {},
   "outputs": [],
   "source": [
    "traf.info()"
   ]
  },
  {
   "cell_type": "code",
   "execution_count": null,
   "id": "8bb18ba9-353a-4879-8ed4-279b63742213",
   "metadata": {},
   "outputs": [],
   "source": [
    "traf.save()"
   ]
  }
 ],
 "metadata": {
  "kernelspec": {
   "display_name": "Python 3 (ipykernel)",
   "language": "python",
   "name": "python3"
  },
  "language_info": {
   "codemirror_mode": {
    "name": "ipython",
    "version": 3
   },
   "file_extension": ".py",
   "mimetype": "text/x-python",
   "name": "python",
   "nbconvert_exporter": "python",
   "pygments_lexer": "ipython3",
   "version": "3.10.10"
  }
 },
 "nbformat": 4,
 "nbformat_minor": 5
}
