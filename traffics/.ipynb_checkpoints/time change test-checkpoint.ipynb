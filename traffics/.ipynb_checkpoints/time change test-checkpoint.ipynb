{
 "cells": [
  {
   "cell_type": "code",
   "execution_count": null,
   "id": "0d52ee66",
   "metadata": {},
   "outputs": [],
   "source": [
    "TimeDiv = (3,6,9)"
   ]
  },
  {
   "cell_type": "code",
   "execution_count": null,
   "id": "33bdf571",
   "metadata": {},
   "outputs": [],
   "source": [
    "import random"
   ]
  },
  {
   "cell_type": "code",
   "execution_count": null,
   "id": "f55a4d8a",
   "metadata": {},
   "outputs": [],
   "source": [
    "lower_bounds = [0] + list(TimeDiv)[:-1]\n",
    "upper_bounds = TimeDiv\n",
    "cat_list = [i + 1 for i in range(len(TimeDiv))]  # 注意类型的取值"
   ]
  },
  {
   "cell_type": "code",
   "execution_count": null,
   "id": "82d8ed65",
   "metadata": {},
   "outputs": [],
   "source": [
    "NumExp = 40\n",
    "PregeneratedVehicleList = []\n",
    "for i in range(NumExp):\n",
    "    PregeneratedVehicleList.append([[[1,-1,999,1200]],[]])\n",
    "    \n",
    "PregeneratedVehicleList"
   ]
  },
  {
   "cell_type": "code",
   "execution_count": null,
   "id": "3c30f7b6",
   "metadata": {},
   "outputs": [],
   "source": [
    "prob = 0.1"
   ]
  },
  {
   "cell_type": "code",
   "execution_count": null,
   "id": "d423d9cf",
   "metadata": {},
   "outputs": [],
   "source": [
    "for i in range(NumExp):\n",
    "    exp_vehicle_table = PregeneratedVehicleList[i][0]\n",
    "    for ii in range(len(exp_vehicle_table)):\n",
    "        if random.random() < prob:\n",
    "            record = list(exp_vehicle_table[ii])\n",
    "            category = record[0]\n",
    "            enter_step = record[2]\n",
    "            new_category = random.choice(cat_list)\n",
    "            while new_category == category:\n",
    "                new_category = random.choice(cat_list)\n",
    "            lower_bound = lower_bounds[new_category - 1]\n",
    "            upper_bound = upper_bounds[new_category - 1]\n",
    "            leave_after = random.uniform(lower_bound, upper_bound) #单位是小时，同模型文件以及reclassify函数的规定一致\n",
    "            leave_step = enter_step + leave_after * 60 * 12\n",
    "            while leave_step > 17279:\n",
    "                new_category = random.choice(cat_list)\n",
    "                while new_category == category:\n",
    "                    new_category = random.choice(cat_list)\n",
    "                lower_bound = lower_bounds[new_category - 1]\n",
    "                upper_bound = upper_bounds[new_category - 1]\n",
    "                leave_after = random.uniform(lower_bound, upper_bound) #单位是小时，同模型文件以及reclassify函数的规定一致\n",
    "                leave_step = enter_step + leave_after * 60 * 12\n",
    "            record[3] = leave_step\n",
    "            exp_vehicle_table[ii] = tuple(record)"
   ]
  },
  {
   "cell_type": "code",
   "execution_count": null,
   "id": "5bfedd54",
   "metadata": {},
   "outputs": [],
   "source": [
    "PregeneratedVehicleList"
   ]
  },
  {
   "cell_type": "code",
   "execution_count": null,
   "id": "bb878644",
   "metadata": {},
   "outputs": [],
   "source": [
    "for e in PregeneratedVehicleList:\n",
    "    record = e[0][0]\n",
    "    print((record[3] - record[2])/(60*12))"
   ]
  }
 ],
 "metadata": {
  "kernelspec": {
   "display_name": "Python 3 (ipykernel)",
   "language": "python",
   "name": "python3"
  },
  "language_info": {
   "codemirror_mode": {
    "name": "ipython",
    "version": 3
   },
   "file_extension": ".py",
   "mimetype": "text/x-python",
   "name": "python",
   "nbconvert_exporter": "python",
   "pygments_lexer": "ipython3",
   "version": "3.10.10"
  }
 },
 "nbformat": 4,
 "nbformat_minor": 5
}
