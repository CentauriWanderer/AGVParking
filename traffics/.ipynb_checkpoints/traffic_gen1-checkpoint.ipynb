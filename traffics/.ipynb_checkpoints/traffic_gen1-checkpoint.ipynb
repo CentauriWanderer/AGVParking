{
 "cells": [
  {
   "cell_type": "markdown",
   "id": "7b4d8b5e-1e86-4953-9dfd-876a22c8a4e2",
   "metadata": {},
   "source": [
    "加入加载模型后修改cp，ep，dep的功能"
   ]
  },
  {
   "cell_type": "code",
   "execution_count": 1,
   "id": "68b88f33",
   "metadata": {},
   "outputs": [],
   "source": [
    "import random\n",
    "import pickle\n",
    "import matplotlib.pyplot as plt\n",
    "import math\n",
    "import openpyxl\n",
    "\n",
    "class TRAFFIC:\n",
    "\n",
    "    def __init__(self, path='models/model000.xlsx', num_exp=10, map_cap=50, change_prob=0, entrance_percent=(1,0,0), different_exit_prob=0):\n",
    "\n",
    "        self.HourList = (0, 1, 2, 3, 4, 5, 6, 7, 8, 9, 10, 11, 12, 13, 14, 15, 16, 17, 18, 19, 20, 21, 22, 23, 24)\n",
    "        \n",
    "        self.Path = path\n",
    "        wb_obj = openpyxl.load_workbook(path)\n",
    "\n",
    "        sheet_obj = wb_obj['short']\n",
    "        num_rows = sheet_obj.max_row\n",
    "        short = []\n",
    "        for row in range(1, num_rows + 1):\n",
    "            cell_obj = sheet_obj.cell(row=row, column=1)\n",
    "            short.append(cell_obj.value)\n",
    "        self.ShortParkProb = tuple(short)\n",
    "        \n",
    "        sheet_obj = wb_obj['middle']\n",
    "        middle = []\n",
    "        for row in range(1, num_rows + 1):\n",
    "            cell_obj = sheet_obj.cell(row=row, column=1)\n",
    "            middle.append(cell_obj.value)\n",
    "        self.MiddleParkProb = tuple(middle)\n",
    "        \n",
    "        sheet_obj = wb_obj['long']\n",
    "        long = []\n",
    "        for row in range(1, num_rows + 1):\n",
    "            cell_obj = sheet_obj.cell(row=row, column=1)\n",
    "            long.append(cell_obj.value)\n",
    "        self.LongParkProb = tuple(long)\n",
    "\n",
    "        sheet_obj = wb_obj['definition']\n",
    "        num_rows = sheet_obj.max_row\n",
    "        defi = []\n",
    "        for row in range(1, num_rows + 1):\n",
    "            cell_obj = sheet_obj.cell(row=row, column=1)\n",
    "            defi.append(cell_obj.value)\n",
    "        self.ShortParkTill, self.MiddleParkTill, self.LongParkTill = defi\n",
    "        \n",
    "        sheet_obj = wb_obj['capacity']\n",
    "        self.ModelCap = sheet_obj.cell(row=1, column=1).value\n",
    "\n",
    "        \"\"\"\n",
    "        # 到达概率分布\n",
    "        self.HourList = (0, 1, 2, 3, 4, 5, 6, 7, 8, 9, 10, 11, 12, 13, 14, 15, 16, 17, 18, 19, 20, 21, 22, 23, 24)\n",
    "        self.ShortParkProb = (0, 0, 0, 0, 0, 0, 0.5, 3, 6.5, 5, 5, 5.5, 7, 6, 5, 5, 5.5, 7.5, 8, 7, 3, 1, 0, 0, 0)\n",
    "        self.MiddleParkProb = (0, 0, 0, 0, 0, 0, 0.5, 3, 6, 6, 4, 5, 5, 5, 4, 4, 3.5, 3, 2, 1, 0.5, 0, 0, 0, 0)\n",
    "        self.LongParkProb = (0, 0, 0, 0, 0, 0, 0.5, 7, 10, 8, 6, 4, 3, 2, 1, 0.5, 0, 0, 0, 0, 0, 0, 0, 0, 0)\n",
    "        \"\"\"\n",
    "        \"\"\"\n",
    "        容量调整系数=地图容量/模型最大容量78.5(constant)\n",
    "        上表到达概率单位为辆/小时，若以5秒为一step，则一小时有60*12个step\n",
    "        所以每个step实际到达概率应该为a_adj*prob/(60*12)\n",
    "        \"\"\"\n",
    "        # 参数\n",
    "        self.NumExp = num_exp\n",
    "        self.MapCap = map_cap\n",
    "        self.Ratio = map_cap/self.ModelCap\n",
    "        self.ChangeProb = change_prob\n",
    "        self.EntrancePercent = entrance_percent\n",
    "        self.DifferentExitProb = different_exit_prob\n",
    "        \n",
    "        self.PregeneratedVehicleList = []\n",
    "\n",
    "    def entranceChoice(self):\n",
    "        a = self.EntrancePercent[0]\n",
    "        b = a + self.EntrancePercent[1]\n",
    "        c = b + self.EntrancePercent[2]\n",
    "        r = random.random()\n",
    "        if r < a:\n",
    "            return 0\n",
    "        elif r < b:\n",
    "            return 1\n",
    "        else:\n",
    "            return 2\n",
    "\n",
    "    def genVehicleList(self):\n",
    "\n",
    "        vehicle_table = []\n",
    "\n",
    "        for step in range(24 * 60 * 12):\n",
    "            # 插值求概率\n",
    "            hour = step / (60 * 12)\n",
    "            if not int(hour) == hour:\n",
    "                x1 = math.floor(hour)\n",
    "                x2 = math.ceil(hour)\n",
    "\n",
    "                y1 = self.ShortParkProb[x1]\n",
    "                y2 = self.ShortParkProb[x2]\n",
    "                probA = (y2 - y1) / 1 * (hour - x1) + y1\n",
    "\n",
    "                y1 = self.MiddleParkProb[x1]\n",
    "                y2 = self.MiddleParkProb[x2]\n",
    "                probB = (y2 - y1) / 1 * (hour - x1) + y1\n",
    "\n",
    "                y1 = self.LongParkProb[x1]\n",
    "                y2 = self.LongParkProb[x2]\n",
    "                probC = (y2 - y1) / 1 * (hour - x1) + y1\n",
    "            else:\n",
    "                probA = self.ShortParkProb[int(hour)]\n",
    "                probB = self.MiddleParkProb[int(hour)]\n",
    "                probC = self.LongParkProb[int(hour)]\n",
    "            # 采样\n",
    "            # A采样\n",
    "            if random.random() < probA * self.Ratio / (60 * 12):\n",
    "                if random.random() < self.ChangeProb:\n",
    "                    leave_after = random.uniform(self.ShortParkTill, self.LongParkTill)\n",
    "                else:\n",
    "                    leave_after = random.uniform(0.2, self.ShortParkTill)  #\n",
    "                leave_step = int((hour + leave_after) * 60 * 12)\n",
    "                # 修正离开时间\n",
    "                while leave_step > 17279:\n",
    "                    #print('A'+str(leave_step))\n",
    "                    leave_after = random.uniform(0.2, self.ShortParkTill)\n",
    "                    leave_step = int((hour + leave_after) * 60 * 12)\n",
    "                # 入口抽样\n",
    "                ent = self.entranceChoice()\n",
    "                # ['类型','分配类型','到达时间','离开时间','入口','出口','实际出口','是否进场','停车位id']\n",
    "                vehicle_table.append((1, -1, step, leave_step, ent, ent, ent, 0, -1))\n",
    "            # B采样\n",
    "            if random.random() < probB * self.Ratio / (60 * 12):\n",
    "                if random.random() < self.ChangeProb:\n",
    "                    if random.random() < 0.5:\n",
    "                        leave_after = random.uniform(0.2, self.ShortParkTill)\n",
    "                    else:\n",
    "                        leave_after = random.uniform(self.MiddleParkTill, self.LongParkTill)\n",
    "                else:\n",
    "                    leave_after = random.uniform(self.ShortParkTill, self.MiddleParkTill)  #\n",
    "                leave_step = int((hour + leave_after) * 60 * 12)\n",
    "                #\n",
    "                while leave_step > 17279:\n",
    "                    #print('B'+str(leave_step))\n",
    "                    leave_after = random.uniform(self.ShortParkTill, self.MiddleParkTill)\n",
    "                    leave_step = int((hour + leave_after) * 60 * 12)\n",
    "                    # 入口抽样\n",
    "                ent = self.entranceChoice()\n",
    "                vehicle_table.append((2, -1, step, leave_step, ent, ent, ent, 0, -1))\n",
    "            # C采样\n",
    "            if random.random() < probC * self.Ratio / (60 * 12):\n",
    "                if random.random() < self.ChangeProb:\n",
    "                    leave_after = random.uniform(0.2, self.MiddleParkTill)\n",
    "                else:\n",
    "                    leave_after = random.uniform(self.MiddleParkTill, self.LongParkTill)  #\n",
    "                leave_step = int((hour + leave_after) * 60 * 12)\n",
    "                #\n",
    "                while leave_step > 17279:\n",
    "                    #print('C'+str(leave_step))\n",
    "                    leave_after = random.uniform(self.MiddleParkTill, self.LongParkTill)\n",
    "                    leave_step = int((hour + leave_after) * 60 * 12)\n",
    "                    # 入口抽样\n",
    "                ent = self.entranceChoice()\n",
    "                vehicle_table.append((3, -1, step, leave_step, ent, ent, ent, 0, -1))\n",
    "\n",
    "        arrive_queue = []\n",
    "        for i in range(len(vehicle_table)):\n",
    "            arrive_queue.append((vehicle_table[i][2], i))  # 到达时间，id\n",
    "\n",
    "        return vehicle_table, arrive_queue\n",
    "    \n",
    "    def generate(self):\n",
    "        for i in range(self.NumExp):\n",
    "            self.PregeneratedVehicleList.append(self.genVehicleList())\n",
    "            \n",
    "    def info(self):\n",
    "        print('实验数量：'+str(self.NumExp))\n",
    "        print('地图容量：'+str(self.MapCap))\n",
    "        print('模型容量：'+str(self.ModelCap))\n",
    "        print('模型路径：'+str(self.Path))\n",
    "        print('离开变类概率：'+str(self.ChangeProb))\n",
    "        print('入口百分比：'+str(self.EntrancePercent))\n",
    "        print('异口离开概率：'+str(self.DifferentExitProb)) \n",
    "    \n",
    "    def save(self):\n",
    "        print('实验数量：'+str(self.NumExp))\n",
    "        print('地图容量：'+str(self.MapCap))\n",
    "        print('模型容量：'+str(self.ModelCap))\n",
    "        print('模型路径：'+str(self.Path))\n",
    "        print('离开变类概率：'+str(self.ChangeProb))\n",
    "        print('入口百分比：'+str(self.EntrancePercent))\n",
    "        print('异口离开概率：'+str(self.DifferentExitProb))\n",
    "        file_name = input(\"请输入文件名，输入exit取消：\")\n",
    "        if file_name == 'exit':\n",
    "            return\n",
    "        with open(file_name+'.bin','wb') as f:\n",
    "            pickle.dump((self.PregeneratedVehicleList,(self.NumExp,self.MapCap,self.Path,self.ModelCap,self.ChangeProb,self.EntrancePercent,self.DifferentExitProb)),f)\n",
    "            \n",
    "    def load(self):\n",
    "        file_name = input(\"请输入文件名，输入exit取消：\")\n",
    "        if file_name == 'exit':\n",
    "            return\n",
    "        with open(file_name+'.bin','rb') as f:\n",
    "            self.PregeneratedVehicleList,_ = pickle.load(f)\n",
    "            self.NumExp,self.MapCap,self.Path,self.ModelCap,self.ChangeProb,self.EntrancePercent,self.DifferentExitProb = _\n",
    "            print('已成功加载文件：'+str(file_name)+'.bin')\n",
    "            print('实验数量：'+str(self.NumExp))\n",
    "            print('地图容量：'+str(self.MapCap))\n",
    "            print('模型容量：'+str(self.ModelCap))\n",
    "            print('模型路径：'+str(self.Path))\n",
    "            print('离开变类概率：'+str(self.ChangeProb))\n",
    "            print('入口百分比：'+str(self.EntrancePercent))\n",
    "            print('异口离开概率：'+str(self.DifferentExitProb))\n",
    "            \n",
    "    def plotModel(self):\n",
    "        fig, ax = plt.subplots()\n",
    "        ax.plot(self.HourList,self.ShortParkProb,label='short')\n",
    "        ax.plot(self.HourList,self.MiddleParkProb,label='middle')\n",
    "        ax.plot(self.HourList,self.LongParkProb,label='long')\n",
    "        ax.legend()\n",
    "        plt.show()\n",
    "\n",
    "    def reClassify(self, time_div):\n",
    "        pass\n",
    "        "
   ]
  },
  {
   "cell_type": "code",
   "execution_count": 2,
   "id": "495f0732-08ca-4b10-bf87-8edeaefa86db",
   "metadata": {},
   "outputs": [
    {
     "ename": "RuntimeError",
     "evalue": "No active exception to reraise",
     "output_type": "error",
     "traceback": [
      "\u001b[1;31m---------------------------------------------------------------------------\u001b[0m",
      "\u001b[1;31mRuntimeError\u001b[0m                              Traceback (most recent call last)",
      "Cell \u001b[1;32mIn[2], line 1\u001b[0m\n\u001b[1;32m----> 1\u001b[0m \u001b[38;5;28;01mraise\u001b[39;00m\n",
      "\u001b[1;31mRuntimeError\u001b[0m: No active exception to reraise"
     ]
    }
   ],
   "source": [
    "raise"
   ]
  },
  {
   "cell_type": "code",
   "execution_count": 3,
   "id": "9074a557",
   "metadata": {},
   "outputs": [
    {
     "data": {
      "image/png": "[encoded data removed]",
      "text/plain": [
       "<Figure size 640x480 with 1 Axes>"
      ]
     },
     "metadata": {},
     "output_type": "display_data"
    }
   ],
   "source": [
    "#######################################\n",
    "# 修改模型文件和参数！\n",
    "#######################################\n",
    "\n",
    "traf = TRAFFIC(path='models/model002.xlsx', num_exp=48, map_cap=94, change_prob=0, entrance_percent=(1,0,0), different_exit_prob=0)\n",
    "traf.plotModel()"
   ]
  },
  {
   "cell_type": "code",
   "execution_count": 4,
   "id": "2a66a82e",
   "metadata": {},
   "outputs": [],
   "source": [
    "traf.generate()"
   ]
  },
  {
   "cell_type": "code",
   "execution_count": 5,
   "id": "89c9f896",
   "metadata": {},
   "outputs": [
    {
     "name": "stdout",
     "output_type": "stream",
     "text": [
      "实验数量：48\n",
      "地图容量：94\n",
      "模型容量：106.5\n",
      "模型路径：models/model002.xlsx\n",
      "离开变类概率：0\n",
      "入口百分比：(1, 0, 0)\n",
      "异口离开概率：0\n"
     ]
    }
   ],
   "source": [
    "traf.info()"
   ]
  },
  {
   "cell_type": "code",
   "execution_count": 6,
   "id": "bec460d2",
   "metadata": {},
   "outputs": [
    {
     "name": "stdout",
     "output_type": "stream",
     "text": [
      "实验数量：48\n",
      "地图容量：94\n",
      "模型容量：106.5\n",
      "模型路径：models/model002.xlsx\n",
      "离开变类概率：0\n",
      "入口百分比：(1, 0, 0)\n",
      "异口离开概率：0\n"
     ]
    },
    {
     "name": "stdin",
     "output_type": "stream",
     "text": [
      "请输入文件名，输入exit取消： traffic006\n"
     ]
    }
   ],
   "source": [
    "traf.save()"
   ]
  },
  {
   "cell_type": "code",
   "execution_count": 7,
   "id": "6742e91e",
   "metadata": {},
   "outputs": [
    {
     "name": "stdin",
     "output_type": "stream",
     "text": [
      "请输入文件名，输入exit取消： traffic006\n"
     ]
    },
    {
     "name": "stdout",
     "output_type": "stream",
     "text": [
      "已成功加载文件：traffic006.bin\n",
      "实验数量：48\n",
      "地图容量：94\n",
      "模型容量：106.5\n",
      "模型路径：models/model002.xlsx\n",
      "离开变类概率：0\n",
      "入口百分比：(1, 0, 0)\n",
      "异口离开概率：0\n"
     ]
    }
   ],
   "source": [
    "traf.load()"
   ]
  },
  {
   "cell_type": "code",
   "execution_count": null,
   "id": "d120c186",
   "metadata": {},
   "outputs": [],
   "source": [
    "traf.PregeneratedVehicleList[0][0]\n",
    "#['类型','分配类型','到达时间','离开时间','入口','出口','实际出口','是否进场','停车位id']"
   ]
  },
  {
   "cell_type": "code",
   "execution_count": null,
   "id": "825bfd3e-c5b8-4927-9a21-1d7d72a3a81f",
   "metadata": {},
   "outputs": [],
   "source": [
    "traf.PregeneratedVehicleList[0][1]"
   ]
  },
  {
   "cell_type": "code",
   "execution_count": null,
   "id": "28809843-205a-46c2-ae5f-6f9b6e444100",
   "metadata": {},
   "outputs": [],
   "source": [
    "len(traf.PregeneratedVehicleList)"
   ]
  }
 ],
 "metadata": {
  "kernelspec": {
   "display_name": "Python 3 (ipykernel)",
   "language": "python",
   "name": "python3"
  },
  "language_info": {
   "codemirror_mode": {
    "name": "ipython",
    "version": 3
   },
   "file_extension": ".py",
   "mimetype": "text/x-python",
   "name": "python",
   "nbconvert_exporter": "python",
   "pygments_lexer": "ipython3",
   "version": "3.11.5"
  }
 },
 "nbformat": 4,
 "nbformat_minor": 5
}
