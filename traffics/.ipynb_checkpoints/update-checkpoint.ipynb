{
 "cells": [
  {
   "cell_type": "code",
   "execution_count": null,
   "id": "3d1cde28-18f4-4539-abbb-9603114c8387",
   "metadata": {},
   "outputs": [],
   "source": [
    "import pickle"
   ]
  },
  {
   "cell_type": "code",
   "execution_count": null,
   "id": "1ec14aa3-b5d2-44d0-98e8-460abc5b9a56",
   "metadata": {},
   "outputs": [],
   "source": [
    "file_name = input(\"请输入文件名，输入exit取消：\")\n",
    "with open(file_name + '.bin', 'rb') as f:\n",
    "    PregeneratedVehicleList, _ = pickle.load(f)\n",
    "    print('已成功加载文件：' + str(file_name) + '.bin')"
   ]
  },
  {
   "cell_type": "code",
   "execution_count": null,
   "id": "b7cbec23-04ec-48e6-af55-27e9807eaf84",
   "metadata": {},
   "outputs": [],
   "source": [
    "print(_)"
   ]
  },
  {
   "cell_type": "code",
   "execution_count": null,
   "id": "c2a196e8-e04d-47f5-8116-d7d25d124f03",
   "metadata": {},
   "outputs": [],
   "source": [
    "new = (48, 150, 'models/model002.xlsx', 106.5, 0, (1, 0, 0),0, (3,6,9))"
   ]
  },
  {
   "cell_type": "code",
   "execution_count": null,
   "id": "891473cb-fecd-46f2-9231-a297e74c5244",
   "metadata": {},
   "outputs": [],
   "source": [
    "inte"
   ]
  },
  {
   "cell_type": "code",
   "execution_count": null,
   "id": "389f6ca4-62d6-468c-a6fb-9f211a4bb71c",
   "metadata": {},
   "outputs": [],
   "source": [
    "with open(file_name + '.bin', 'wb') as f:\n",
    "    pickle.dump((PregeneratedVehicleList, new), f)"
   ]
  }
 ],
 "metadata": {
  "kernelspec": {
   "display_name": "Python 3 (ipykernel)",
   "language": "python",
   "name": "python3"
  },
  "language_info": {
   "codemirror_mode": {
    "name": "ipython",
    "version": 3
   },
   "file_extension": ".py",
   "mimetype": "text/x-python",
   "name": "python",
   "nbconvert_exporter": "python",
   "pygments_lexer": "ipython3",
   "version": "3.10.10"
  }
 },
 "nbformat": 4,
 "nbformat_minor": 5
}
