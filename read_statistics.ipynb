{
 "cells": [
  {
   "cell_type": "code",
   "execution_count": null,
   "id": "acb1494b",
   "metadata": {},
   "outputs": [],
   "source": [
    "import numpy as np\n",
    "from data_collector import *\n",
    "from genetic_algorithm import *\n",
    "\n",
    "import openpyxl\n",
    "import pickle\n",
    "from PIL import Image\n",
    "import time\n",
    "from tkinter import Tk, PhotoImage, Label, Button, LEFT, Canvas\n",
    "from utils import *\n",
    "from map_class_2 import *"
   ]
  },
  {
   "cell_type": "code",
   "execution_count": null,
   "id": "b7a48e60",
   "metadata": {},
   "outputs": [],
   "source": [
    "import pickle\n",
    "file_name = input('请输入记录文件名：')\n",
    "with open('results/'+file_name+'.bin','rb') as f:\n",
    "    info_dict = pickle.load(f)"
   ]
  },
  {
   "cell_type": "code",
   "execution_count": null,
   "id": "6a4dcc10-7794-4fdf-bb27-be4fe7d7a85c",
   "metadata": {},
   "outputs": [],
   "source": [
    "info_dict.keys()"
   ]
  },
  {
   "cell_type": "code",
   "execution_count": null,
   "id": "e2a5fb52-939f-4ed3-8554-1034fe2c8c4e",
   "metadata": {},
   "outputs": [],
   "source": [
    "print(\"exp information:\")\n",
    "print(info_dict[\"map filename\"])\n",
    "print(info_dict[\"traffic filename\"])\n",
    "print(info_dict[\"pattern\"])\n",
    "print(info_dict[\"number of generations\"])\n",
    "print(info_dict[\"number of individuals\"])\n",
    "print(info_dict[\"number of experiments\"])"
   ]
  },
  {
   "cell_type": "code",
   "execution_count": null,
   "id": "7d76bd78-1c91-40d5-83ec-864ca651ba27",
   "metadata": {},
   "outputs": [],
   "source": [
    "info_dict['end population']"
   ]
  },
  {
   "cell_type": "code",
   "execution_count": null,
   "id": "e6c2aefd-d25d-4d3e-86e0-7091c6a9c290",
   "metadata": {},
   "outputs": [],
   "source": [
    "dc0 = info_dict['data collector 0']\n",
    "dc1 = info_dict['data collector 1']\n",
    "dc2 = info_dict['data collector 2']"
   ]
  },
  {
   "cell_type": "markdown",
   "id": "aa58422e-8f26-4e4c-8135-b23142cae26a",
   "metadata": {},
   "source": [
    "marl = np.mean(dc0.filterData((-1, -1, -1), (0,)))\n",
    "mawt = np.mean(dc0.filterData((-1, -1, -1), (1,)))\n",
    "mdwt = np.mean(dc0.filterData((-1, -1, -1), (2,)))\n",
    "mrcc = np.mean(dc0.filterData((-1, -1, -1), (3,)))\n",
    "mprr = np.mean(dc0.filterData((-1, -1, -1), (4,)))\n",
    "mrsc = np.mean(dc0.filterData((-1, -1, -1), (5,)))\n",
    "wb_obj = openpyxl.load_workbook('results/时间粒度对比.xlsx')\n",
    "sheet_obj = wb_obj['2'] \n",
    "sheet_obj.append([file_name,marl,mawt,mdwt,mrcc,mprr,mrsc])\n",
    "wb_obj.save('results/时间粒度对比.xlsx')\n",
    "raise"
   ]
  },
  {
   "cell_type": "code",
   "execution_count": null,
   "id": "ee3c0991-3967-4cb9-95db-51b1ff899aaf",
   "metadata": {},
   "outputs": [],
   "source": [
    "dc0.Description"
   ]
  },
  {
   "cell_type": "code",
   "execution_count": null,
   "id": "71430cd4-23a5-4ec3-b93f-5a02b247474b",
   "metadata": {},
   "outputs": [],
   "source": [
    "dc1.Description"
   ]
  },
  {
   "cell_type": "code",
   "execution_count": null,
   "id": "e1835533-e97c-45b5-ad07-aa1f065c46a5",
   "metadata": {},
   "outputs": [],
   "source": [
    "dc2.Description"
   ]
  },
  {
   "cell_type": "code",
   "execution_count": null,
   "id": "9be55bdb-0a93-4476-8573-938dbd90547c",
   "metadata": {},
   "outputs": [],
   "source": [
    "arll = []\n",
    "for i in range(24):\n",
    "    arll.append(np.mean(dc0.filterData((47, -1, i), (0,))))  # 路径总长度\n",
    "print(arll)"
   ]
  },
  {
   "cell_type": "code",
   "execution_count": null,
   "id": "e7842fdb-af83-4819-9058-3f2cf042093b",
   "metadata": {},
   "outputs": [],
   "source": [
    "print(min(arll))"
   ]
  },
  {
   "cell_type": "code",
   "execution_count": null,
   "id": "24c87ddd-a83e-41d9-9e9e-98687c39feaf",
   "metadata": {},
   "outputs": [],
   "source": [
    "import matplotlib.pyplot as plt\n",
    "plt.plot(np.mean(dc1.GameStatArray,axis=1))\n",
    "plt.savefig('current result/fitness.png')\n",
    "plt.show()"
   ]
  },
  {
   "cell_type": "markdown",
   "id": "bec5f344-5186-489c-89d8-ee585851d7f2",
   "metadata": {},
   "source": [
    "with open('fitness curve1.bin', 'wb') as f:\n",
    "    pickle.dump(np.mean(dc1.GameStatArray,axis=1).tolist(),f)"
   ]
  },
  {
   "cell_type": "code",
   "execution_count": null,
   "id": "1298f0f4-3bbc-46aa-b8a5-0da535ad561a",
   "metadata": {},
   "outputs": [],
   "source": [
    "arll = []\n",
    "awtl = []\n",
    "dwtl = []\n",
    "rcl = []\n",
    "rrl = []\n",
    "rscl = []\n",
    "for gen_idx in range(info_dict['number of generations']):\n",
    "    # 滤出 当前世代，全部实验，全部个体的统计数据\n",
    "    arll.append(np.mean(dc0.filterData((gen_idx, -1, -1), (0,))))  # 路径总长度\n",
    "    awtl.append(np.mean(dc0.filterData((gen_idx, -1, -1), (1,))))  # 到达等待时间\n",
    "    dwtl.append(np.mean(dc0.filterData((gen_idx, -1, -1), (2,))))  # 离开等待时间\n",
    "    rcl.append(np.mean(dc0.filterData((gen_idx, -1, -1), (3,))))  # 路径冲突计数\n",
    "    rrl.append(np.mean(dc0.filterData((gen_idx, -1, -1), (4,))))  # 重新分配率\n",
    "    rscl.append(np.mean(dc0.filterData((gen_idx, -1, -1), (5,))))  # 路径停止计数"
   ]
  },
  {
   "cell_type": "code",
   "execution_count": null,
   "id": "45558be0-47b4-488e-9a95-1675bfcc8ec2",
   "metadata": {},
   "outputs": [],
   "source": [
    "plt.plot(arll)\n",
    "plt.savefig('current result/SAPC.png')\n",
    "plt.show()"
   ]
  },
  {
   "cell_type": "code",
   "execution_count": null,
   "id": "a2a672f5-b4a1-4c69-86f2-35e4e429053e",
   "metadata": {},
   "outputs": [],
   "source": [
    "print(arll[0])\n",
    "print(arll[-1])\n",
    "print((arll[0]-arll[-1])/arll[0])"
   ]
  },
  {
   "cell_type": "code",
   "execution_count": null,
   "id": "184813e1-0c94-4b45-8bee-303fcbb084b9",
   "metadata": {},
   "outputs": [],
   "source": [
    "plt.plot(awtl)\n",
    "plt.savefig('current result/SPTD.png')\n",
    "plt.show()"
   ]
  },
  {
   "cell_type": "code",
   "execution_count": null,
   "id": "59ce8f30-30f6-4e47-bc1f-9a27230ca22e",
   "metadata": {},
   "outputs": [],
   "source": [
    "print(awtl[0])\n",
    "print(awtl[-1])\n",
    "print((awtl[0]-awtl[-1])/awtl[0])"
   ]
  },
  {
   "cell_type": "code",
   "execution_count": null,
   "id": "08ff5ccf-858c-4e68-a74d-f21c6fe6e1aa",
   "metadata": {},
   "outputs": [],
   "source": [
    "plt.plot(dwtl)\n",
    "plt.savefig('current result/SRTD.png')\n",
    "plt.show()"
   ]
  },
  {
   "cell_type": "code",
   "execution_count": null,
   "id": "66a04107-66af-498e-8adf-f6ce810d2c15",
   "metadata": {},
   "outputs": [],
   "source": [
    "print(dwtl[0])\n",
    "print(dwtl[-1])\n",
    "print((dwtl[0]-dwtl[-1])/dwtl[0])"
   ]
  },
  {
   "cell_type": "code",
   "execution_count": null,
   "id": "b3f515e9-d15c-4a0f-8d8b-951e63d2ad15",
   "metadata": {},
   "outputs": [],
   "source": [
    "plt.plot(rcl)\n",
    "plt.savefig('current result/APCC.png')\n",
    "plt.show()"
   ]
  },
  {
   "cell_type": "code",
   "execution_count": null,
   "id": "0e31cc6c-7f74-416d-b282-156b1f517e9f",
   "metadata": {},
   "outputs": [],
   "source": [
    "print(rcl[0])\n",
    "print(rcl[-1])\n",
    "print((rcl[0]-rcl[-1])/rcl[0])"
   ]
  },
  {
   "cell_type": "code",
   "execution_count": null,
   "id": "79a75602-d90e-40c3-97da-713a9fcb7b5f",
   "metadata": {},
   "outputs": [],
   "source": [
    "plt.plot(rrl)\n",
    "plt.savefig('current result/RR.png')\n",
    "plt.show()"
   ]
  },
  {
   "cell_type": "code",
   "execution_count": null,
   "id": "d5953a0c-bf43-4b06-a074-65e5440cc1ce",
   "metadata": {},
   "outputs": [],
   "source": [
    "print(rrl[0])\n",
    "print(rrl[-1])\n",
    "print((rrl[0]-rrl[-1])/rrl[0])"
   ]
  },
  {
   "cell_type": "code",
   "execution_count": null,
   "id": "cca7d832-2990-4dda-b12f-4aa247f423c2",
   "metadata": {},
   "outputs": [],
   "source": [
    "plt.plot(rscl)\n",
    "plt.savefig('current result/AWC.png')\n",
    "plt.show()"
   ]
  },
  {
   "cell_type": "code",
   "execution_count": null,
   "id": "4152db10-f330-4317-aff2-6394512e3426",
   "metadata": {},
   "outputs": [],
   "source": [
    "print(rscl[0])\n",
    "print(rscl[-1])\n",
    "print((rscl[0]-rscl[-1])/rscl[0])"
   ]
  },
  {
   "cell_type": "code",
   "execution_count": null,
   "id": "13cb64c9-0219-48ef-86b6-ed4dc36b0f9a",
   "metadata": {},
   "outputs": [],
   "source": [
    "fitness = dc1.GameStatArray[-1].tolist()\n",
    "fitness"
   ]
  },
  {
   "cell_type": "code",
   "execution_count": null,
   "id": "63a4ebb3-8c96-436b-b234-85a81b87a237",
   "metadata": {},
   "outputs": [],
   "source": [
    "index_best_indv = fitness.index(max(fitness))\n",
    "index_best_indv"
   ]
  },
  {
   "cell_type": "code",
   "execution_count": null,
   "id": "68095514-1ec5-47e6-9200-203c70c942df",
   "metadata": {},
   "outputs": [],
   "source": [
    "dc2.GameStatArray[0]"
   ]
  },
  {
   "cell_type": "code",
   "execution_count": null,
   "id": "db70532a-19d3-4848-8be1-dfdd756fab59",
   "metadata": {},
   "outputs": [],
   "source": [
    "type_a_route_length_sum_list = []\n",
    "type_b_route_length_sum_list = []\n",
    "type_c_route_length_sum_list = []\n",
    "type_d_route_length_sum_list = []\n",
    "type_e_route_length_sum_list = []\n",
    "type_a_activity_count = np.sum(dc2.filterData((0,-1,0),(5,)))\n",
    "type_b_activity_count = np.sum(dc2.filterData((0,-1,0),(6,)))\n",
    "type_c_activity_count = np.sum(dc2.filterData((0,-1,0),(7,)))\n",
    "type_d_activity_count = np.sum(dc2.filterData((0,-1,0),(8,)))\n",
    "type_e_activity_count = np.sum(dc2.filterData((0,-1,0),(9,)))\n",
    "for gen_idx in range(info_dict[\"number of generations\"]):\n",
    "    type_a_route_length_sum_list.append(np.sum(dc2.filterData((gen_idx,-1,-1),(0,)))/48)\n",
    "    type_b_route_length_sum_list.append(np.sum(dc2.filterData((gen_idx,-1,-1),(1,)))/48)\n",
    "    type_c_route_length_sum_list.append(np.sum(dc2.filterData((gen_idx,-1,-1),(2,)))/48)\n",
    "    type_d_route_length_sum_list.append(np.sum(dc2.filterData((gen_idx,-1,-1),(3,)))/48)\n",
    "    type_e_route_length_sum_list.append(np.sum(dc2.filterData((gen_idx,-1,-1),(4,)))/48)"
   ]
  },
  {
   "cell_type": "code",
   "execution_count": null,
   "id": "3383b61a-dc62-4792-af22-334d4ebeab48",
   "metadata": {},
   "outputs": [],
   "source": [
    "plt.plot(type_a_route_length_sum_list,label = 'short-term')\n",
    "plt.plot(type_b_route_length_sum_list,label = 'medium')\n",
    "plt.plot(type_c_route_length_sum_list,label = 'long')\n",
    "#plt.plot(type_d_route_length_sum_list,label = 'class D')\n",
    "#plt.plot(type_e_route_length_sum_list,label = 'class E')\n",
    "plt.legend()\n",
    "plt.savefig('current result/SAPC classified.png')\n",
    "plt.show()"
   ]
  },
  {
   "cell_type": "code",
   "execution_count": null,
   "id": "02778792-edc9-48b6-a8ff-c6cd44af8544",
   "metadata": {},
   "outputs": [],
   "source": [
    "type_a_route_length_sum_list = [e/type_a_activity_count for e in type_a_route_length_sum_list]\n",
    "type_b_route_length_sum_list = [e/type_b_activity_count for e in type_b_route_length_sum_list]\n",
    "type_c_route_length_sum_list = [e/type_c_activity_count for e in type_c_route_length_sum_list]\n",
    "type_d_route_length_sum_list = [e/type_d_activity_count for e in type_d_route_length_sum_list]\n",
    "type_e_route_length_sum_list = [e/type_e_activity_count for e in type_e_route_length_sum_list]\n",
    "\n",
    "plt.plot(type_a_route_length_sum_list,label = 'short-term')\n",
    "plt.plot(type_b_route_length_sum_list,label = 'medium')\n",
    "plt.plot(type_c_route_length_sum_list,label = 'long')\n",
    "#plt.plot(type_d_route_length_sum_list,label = 'class D')\n",
    "#plt.plot(type_e_route_length_sum_list,label = 'class E')\n",
    "plt.legend()\n",
    "plt.savefig('current result/mean SAPC classified.png')\n",
    "plt.show()"
   ]
  },
  {
   "cell_type": "markdown",
   "id": "81a3fc58-4941-418c-980a-f06f1ad85c24",
   "metadata": {},
   "source": [
    "with open('best063.bin', 'wb') as f:\n",
    "    pickle.dump(info_dict['end population'][index_best_indv], f)"
   ]
  },
  {
   "cell_type": "code",
   "execution_count": null,
   "id": "3a1e6925-2ccc-4582-9ba4-3a8eef08d13c",
   "metadata": {},
   "outputs": [],
   "source": [
    "best_mean_route_len = np.mean(dc0.filterData((47,-1,index_best_indv),(0,)))\n",
    "best_mean_arr_wait_time = np.mean(dc0.filterData((47,-1,index_best_indv),(1,)))\n",
    "best_mean_dep_wait_time = np.mean(dc0.filterData((47,-1,index_best_indv),(2,)))\n",
    "best_mean_route_conf_count = np.mean(dc0.filterData((47,-1,index_best_indv),(3,)))\n",
    "best_mean_realloc_rate = np.mean(dc0.filterData((47,-1,index_best_indv),(4,)))\n",
    "best_mean_route_stop_count = np.mean(dc0.filterData((47,-1,index_best_indv),(5,)))\n",
    "print(best_mean_route_len)\n",
    "print(best_mean_arr_wait_time)\n",
    "print(best_mean_dep_wait_time)\n",
    "print(best_mean_route_conf_count)\n",
    "print(best_mean_realloc_rate)\n",
    "print(best_mean_route_stop_count)"
   ]
  },
  {
   "cell_type": "markdown",
   "id": "84ac3280-aaab-4671-9d89-8c81074b7bb3",
   "metadata": {},
   "source": [
    "best_mean_route_len = np.mean(dc0.filterData((0,-1,index_best_indv),(0,)))\n",
    "best_mean_arr_wait_time = np.mean(dc0.filterData((0,-1,index_best_indv),(1,)))\n",
    "best_mean_dep_wait_time = np.mean(dc0.filterData((0,-1,index_best_indv),(2,)))\n",
    "best_mean_route_conf_count = np.mean(dc0.filterData((0,-1,index_best_indv),(3,)))\n",
    "best_mean_realloc_rate = np.mean(dc0.filterData((0,-1,index_best_indv),(4,)))\n",
    "best_mean_route_stop_count = np.mean(dc0.filterData((0,-1,index_best_indv),(5,)))\n",
    "print(best_mean_route_len)\n",
    "print(best_mean_arr_wait_time)\n",
    "print(best_mean_dep_wait_time)\n",
    "print(best_mean_route_conf_count)\n",
    "print(best_mean_realloc_rate)\n",
    "print(best_mean_route_stop_count)"
   ]
  },
  {
   "cell_type": "code",
   "execution_count": null,
   "id": "2d3822c0-bee1-4c2e-9102-6627a72c3a5f",
   "metadata": {},
   "outputs": [],
   "source": [
    "indv = info_dict['end population'][index_best_indv]\n",
    "mp = MAP_CLASS(path=info_dict['map filename'])\n",
    "en, ex, cs, ob, l, lu, ld, ll, lr = mp.getData()\n",
    "cp, p, pt, rl = mp.genParkingPosListFromChromos(indv)\n",
    "print(cp)\n",
    "fractions = ''\n",
    "for e in p:\n",
    "    print(len(e))\n",
    "    print(len(e)/cp*100)\n",
    "    fractions+=str(round(len(e)/cp*100,1))+'%-'\n",
    "print(fractions)"
   ]
  },
  {
   "cell_type": "code",
   "execution_count": null,
   "id": "9b2d5fd0-e62f-4d70-bb44-6022022938dd",
   "metadata": {},
   "outputs": [],
   "source": [
    "raise"
   ]
  },
  {
   "cell_type": "code",
   "execution_count": null,
   "id": "b6f060dd-8672-4806-92e5-96a7910cecf5",
   "metadata": {},
   "outputs": [],
   "source": [
    "wb_obj = openpyxl.load_workbook(info_dict['map filename'])\n",
    "\n",
    "sheet_obj = wb_obj['map']\n",
    "\n",
    "size_x = sheet_obj.max_column\n",
    "size_y = sheet_obj.max_row\n",
    "\n",
    "grid_size = int(600/max(size_x, size_y))\n",
    "\n",
    "#################################3\n",
    "\n",
    "root = Tk()\n",
    "\n",
    "root.geometry(str(size_x * grid_size + 50) + 'x' + str(size_y * grid_size + 100))\n",
    "\n",
    "canvas = Canvas(root, width = size_x * grid_size, height = size_y * grid_size, background = \"white\")\n",
    "canvas.pack(ipadx = 10, ipady = 10)\n",
    "\n",
    "\n",
    "###################################\n",
    "\n",
    "\n",
    "def draw_rect(x, y, color):\n",
    "    canvas.create_rectangle(grid_size * x, grid_size * y, grid_size * x + grid_size - 1, grid_size * y + grid_size - 1,\n",
    "                             fill = color,\n",
    "                             outline = None,\n",
    "                             width = 0)\n",
    "\n",
    "def refresh_image():\n",
    "    \n",
    "    canvas.delete(\"all\")\n",
    "    \n",
    "    for record in en:\n",
    "        draw_rect(record[0][0], size_y - record[0][1] - 1, \"yellow\")\n",
    "        canvas.create_text(grid_size * record[0][0],grid_size * (size_y - record[0][1] - 1), text='in', fill=\"black\", anchor=\"nw\")\n",
    "    \n",
    "    for record in ex:\n",
    "        draw_rect(record[0][0], size_y - record[0][1] - 1, \"orange\")\n",
    "        canvas.create_text(grid_size * record[0][0],grid_size * (size_y - record[0][1] - 1), text='out', fill=\"black\", anchor=\"nw\")\n",
    "    \n",
    "    for record in cs:\n",
    "        draw_rect(record[0][0], size_y - record[0][1] - 1, \"red\")\n",
    "        canvas.create_text(grid_size * record[0][0],grid_size * (size_y - record[0][1] - 1), text='ch', fill=\"white\", anchor=\"nw\")\n",
    "    \n",
    "    for record in ob:\n",
    "        draw_rect(record[0], size_y - record[1] - 1, \"gray\")\n",
    "    \n",
    "    for record in l:\n",
    "        draw_rect(record[0], size_y - record[1] - 1, \"white\")\n",
    "    \n",
    "    for record in lu:\n",
    "        draw_rect(record[0], size_y - record[1] - 1, \"white\")\n",
    "        canvas.create_text(grid_size * record[0],grid_size * (size_y - record[1] - 1), text='↑', fill=\"black\", anchor=\"nw\")\n",
    "    \n",
    "    for record in ld:\n",
    "        draw_rect(record[0], size_y - record[1] - 1, \"white\")\n",
    "        canvas.create_text(grid_size * record[0],grid_size * (size_y - record[1] - 1), text='↓', fill=\"black\", anchor=\"nw\")\n",
    "    \n",
    "    for record in ll:\n",
    "        draw_rect(record[0], size_y - record[1] - 1, \"white\")\n",
    "        canvas.create_text(grid_size * record[0],grid_size * (size_y - record[1] - 1), text='←', fill=\"black\", anchor=\"nw\")\n",
    "    \n",
    "    for record in lr:\n",
    "        draw_rect(record[0], size_y - record[1] - 1, \"white\")\n",
    "        canvas.create_text(grid_size * record[0],grid_size * (size_y - record[1] - 1), text='→', fill=\"black\", anchor=\"nw\")\n",
    "    \n",
    "    for record in p[0]:\n",
    "        draw_rect(record[0], size_y - record[1] - 1, 'light green')\n",
    "    \n",
    "    for record in p[1]:\n",
    "        draw_rect(record[0], size_y - record[1] - 1, 'green')\n",
    "    \n",
    "    for record in p[2]:\n",
    "        draw_rect(record[0], size_y - record[1] - 1, 'light blue')\n",
    "\n",
    "    for record in p[3]:\n",
    "        draw_rect(record[0], size_y - record[1] - 1, 'blue')\n",
    "    \n",
    "    for record in p[4]:\n",
    "        draw_rect(record[0], size_y - record[1] - 1, 'dark blue')\n",
    "    \n",
    "    # 画网格\n",
    "    for i in range(size_x):\n",
    "        canvas.create_line((i + 1) * grid_size - 1, 0, (i + 1) * grid_size - 1, size_y * grid_size - 1, fill = \"gray\", width = 1)\n",
    "    \n",
    "    for i in range(size_y):\n",
    "        canvas.create_line(0, (i + 1) * grid_size - 1, size_x * grid_size - 1, (i + 1) * grid_size - 1, fill = \"gray\", width = 1)\n",
    "\n",
    "timer_id = root.after(10, refresh_image)\n",
    "\n",
    "def on_closing():\n",
    "    root.after_cancel(timer_id)\n",
    "    root.destroy()\n",
    "\n",
    "root.protocol(\"WM_DELETE_WINDOW\", on_closing)\n",
    "\n",
    "root.mainloop()"
   ]
  },
  {
   "cell_type": "markdown",
   "id": "394ba424-ec6f-4dff-9c4c-de622dfa6720",
   "metadata": {},
   "source": [
    "for ii in range(len(fitness)):\n",
    "\n",
    "    indv = info_dict['end population'][ii]\n",
    "    cp, p, pt, rl = mp.genParkingPosListFromChromos(indv)\n",
    "    \n",
    "    root = Tk()\n",
    "    \n",
    "    root.geometry(str(size_x * grid_size + 50) + 'x' + str(size_y * grid_size + 100))\n",
    "    \n",
    "    root.title('Individual'+str(ii))\n",
    "    \n",
    "    canvas = Canvas(root, width = size_x * grid_size, height = size_y * grid_size, background = \"white\")\n",
    "    canvas.pack(ipadx = 10, ipady = 10)\n",
    "    \n",
    "    ###################################\n",
    "    \n",
    "    \n",
    "    def draw_rect(x, y, color):\n",
    "        canvas.create_rectangle(grid_size * x, grid_size * y, grid_size * x + grid_size - 1, grid_size * y + grid_size - 1,\n",
    "                                 fill = color,\n",
    "                                 outline = None,\n",
    "                                 width = 0)\n",
    "    \n",
    "    def refresh_image():\n",
    "        \n",
    "        canvas.delete(\"all\")\n",
    "        \n",
    "        for record in en:\n",
    "            draw_rect(record[0][0], size_y - record[0][1] - 1, \"yellow\")\n",
    "            canvas.create_text(grid_size * record[0][0],grid_size * (size_y - record[0][1] - 1), text='in', fill=\"black\", anchor=\"nw\")\n",
    "        \n",
    "        for record in ex:\n",
    "            draw_rect(record[0][0], size_y - record[0][1] - 1, \"orange\")\n",
    "            canvas.create_text(grid_size * record[0][0],grid_size * (size_y - record[0][1] - 1), text='out', fill=\"black\", anchor=\"nw\")\n",
    "        \n",
    "        for record in cs:\n",
    "            draw_rect(record[0][0], size_y - record[0][1] - 1, \"red\")\n",
    "            canvas.create_text(grid_size * record[0][0],grid_size * (size_y - record[0][1] - 1), text='ch', fill=\"white\", anchor=\"nw\")\n",
    "        \n",
    "        for record in ob:\n",
    "            draw_rect(record[0], size_y - record[1] - 1, \"gray\")\n",
    "        \n",
    "        for record in l:\n",
    "            draw_rect(record[0], size_y - record[1] - 1, \"white\")\n",
    "        \n",
    "        for record in lu:\n",
    "            draw_rect(record[0], size_y - record[1] - 1, \"white\")\n",
    "            canvas.create_text(grid_size * record[0],grid_size * (size_y - record[1] - 1), text='↑', fill=\"black\", anchor=\"nw\")\n",
    "        \n",
    "        for record in ld:\n",
    "            draw_rect(record[0], size_y - record[1] - 1, \"white\")\n",
    "            canvas.create_text(grid_size * record[0],grid_size * (size_y - record[1] - 1), text='↓', fill=\"black\", anchor=\"nw\")\n",
    "        \n",
    "        for record in ll:\n",
    "            draw_rect(record[0], size_y - record[1] - 1, \"white\")\n",
    "            canvas.create_text(grid_size * record[0],grid_size * (size_y - record[1] - 1), text='←', fill=\"black\", anchor=\"nw\")\n",
    "        \n",
    "        for record in lr:\n",
    "            draw_rect(record[0], size_y - record[1] - 1, \"white\")\n",
    "            canvas.create_text(grid_size * record[0],grid_size * (size_y - record[1] - 1), text='→', fill=\"black\", anchor=\"nw\")\n",
    "        \n",
    "        for record in p[0]:\n",
    "            draw_rect(record[0], size_y - record[1] - 1, 'light green')\n",
    "        \n",
    "        for record in p[1]:\n",
    "            draw_rect(record[0], size_y - record[1] - 1, 'green')\n",
    "        \n",
    "        for record in p[2]:\n",
    "            draw_rect(record[0], size_y - record[1] - 1, 'light blue')\n",
    "    \n",
    "        for record in p[3]:\n",
    "            draw_rect(record[0], size_y - record[1] - 1, 'blue')\n",
    "        \n",
    "        for record in p[4]:\n",
    "            draw_rect(record[0], size_y - record[1] - 1, 'dark blue')\n",
    "        \n",
    "        # 画网格\n",
    "        for i in range(size_x):\n",
    "            canvas.create_line((i + 1) * grid_size - 1, 0, (i + 1) * grid_size - 1, size_y * grid_size - 1, fill = \"gray\", width = 1)\n",
    "        \n",
    "        for i in range(size_y):\n",
    "            canvas.create_line(0, (i + 1) * grid_size - 1, size_x * grid_size - 1, (i + 1) * grid_size - 1, fill = \"gray\", width = 1)\n",
    "    \n",
    "        canvas.postscript(file = 'current result/'+str(ii) + '.ps') \n",
    "        \n",
    "    def quit():\n",
    "        root.destroy()\n",
    "    \n",
    "    timer_id = root.after(10, refresh_image)\n",
    "    timer_id1 = root.after(30, quit)\n",
    "    \n",
    "    def on_closing():\n",
    "        root.after_cancel(timer_id)\n",
    "        root.after_cancel(timer_id1)\n",
    "        root.destroy()\n",
    "    \n",
    "    root.protocol(\"WM_DELETE_WINDOW\", on_closing)\n",
    "    root.mainloop()\n",
    "\n",
    "    time.sleep(1)\n",
    "\n",
    "#########################################\n",
    "\n",
    "from PIL import Image\n",
    "for i in range(len(fitness)):\n",
    "    img = Image.open('current result/'+str(i) + '.ps') \n",
    "    img.save('current result/'+'layout'+str(i) + '.bmp', 'bmp', dpi=(600,600)) "
   ]
  },
  {
   "cell_type": "code",
   "execution_count": null,
   "id": "b1b61cc4-d9d4-46b1-93aa-3bf4bf8af9cc",
   "metadata": {},
   "outputs": [],
   "source": []
  },
  {
   "cell_type": "code",
   "execution_count": null,
   "id": "59fbeea8",
   "metadata": {},
   "outputs": [],
   "source": []
  }
 ],
 "metadata": {
  "kernelspec": {
   "display_name": "Python 3 (ipykernel)",
   "language": "python",
   "name": "python3"
  },
  "language_info": {
   "codemirror_mode": {
    "name": "ipython",
    "version": 3
   },
   "file_extension": ".py",
   "mimetype": "text/x-python",
   "name": "python",
   "nbconvert_exporter": "python",
   "pygments_lexer": "ipython3",
   "version": "3.10.10"
  }
 },
 "nbformat": 4,
 "nbformat_minor": 5
}
